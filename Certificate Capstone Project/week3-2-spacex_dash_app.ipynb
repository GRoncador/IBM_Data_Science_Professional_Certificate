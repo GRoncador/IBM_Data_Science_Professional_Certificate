{
 "cells": [
  {
   "cell_type": "markdown",
   "metadata": {},
   "source": [
    "# Build a Dashboard Application with Plotly Dash\n",
    "\n",
    "In this lab, you will be building a Plotly Dash application for users to perform interactive visual analytics on SpaceX launch data in\n",
    "real-time.\n",
    "\n",
    "This dashboard application contains input components such as a dropdown list and a range slider to\n",
    "interact with a pie chart and a scatter point chart. You will be guided to build this dashboard application via the following tasks:\n",
    "\n",
    "* TASK 1: Add a Launch Site Drop-down Input Component\n",
    "* TASK 2: Add a callback function to render success-pie-chart based on selected site dropdown\n",
    "* TASK 3: Add a Range Slider to Select Payload\n",
    "* TASK 4: Add a callback function to render the success-payload-scatter-chart scatter plot\n"
   ]
  },
  {
   "cell_type": "markdown",
   "metadata": {},
   "source": [
    "## Download a skeleton dashboard application and dataset\n",
    "\n",
    "First, let’s get the SpaceX Launch dataset for this lab:\n",
    "\n",
    "Run the following `wget` command line in the terminal to download dataset as `spacex_launch_dash.csv`\n"
   ]
  },
  {
   "cell_type": "code",
   "execution_count": 1,
   "metadata": {},
   "outputs": [],
   "source": [
    "!wget \"https://cf-courses-data.s3.us.cloud-object-storage.appdomain.cloud/IBM-DS0321EN-SkillsNetwork/datasets/spacex_launch_dash.csv\""
   ]
  },
  {
   "cell_type": "markdown",
   "metadata": {},
   "source": [
    "## TASK 1: Add a Launch Site Drop-down Input Component\n",
    "We have four different launch sites and we would like to first see which one has the largest success count. Then,\n",
    "we would like to select one specific site and check its detailed success rate (class=0 vs. class=1).\n",
    "\n",
    "As such, we will need a dropdown menu to let us select different launch sites."
   ]
  },
  {
   "cell_type": "markdown",
   "metadata": {},
   "source": [
    "## TASK 2: Add a callback function to render `success-pie-chart` based on selected site dropdown\n",
    "\n",
    "The general idea of this callback function is to get the selected launch site from `site-dropdown` and render a pie chart visualizing launch success counts.\n",
    "\n",
    "Dash callback function is a type of Python function which will be automatically called by Dash whenever receiving an input component updates, such as a click or dropdown selecting event.\n",
    "\n"
   ]
  },
  {
   "cell_type": "markdown",
   "metadata": {},
   "source": [
    "## TASK 3: Add a Range Slider to Select Payload\n",
    "Next, we want to find if variable payload is correlated to mission outcome. From a dashboard point of view, we\n",
    "want to be able to easily select different payload range and see if we can identify some visual patterns.\n",
    "\n",
    "Find and complete a commented `dcc.RangeSlider(id='payload-slider',...)` input with the following attribute:\n",
    "\n",
    "* `id` to be payload-slider\n",
    "* `min` indicating the slider starting point, we set its value to be 0 (Kg)\n",
    "* `max` indicating the slider ending point to, we set its value to be 10000 (Kg)\n",
    "* `step` indicating the slider interval on the slider, we set its value to be 1000 (Kg)\n",
    "* `value` indicating the current selected range, we could set it to be `min_payload` and `max_payload`\n"
   ]
  },
  {
   "cell_type": "markdown",
   "metadata": {},
   "source": [
    "## TASK 4: Add a callback function to render the `success-payload-scatter-chart` scatter plot\n",
    "Next, we want to plot a scatter plot with the x axis to be the payload and the y axis to be the launch outcome (i.e., `class` column).\n",
    "As such, we can visually observe how payload may be correlated with mission outcomes for selected site(s).\n",
    "\n",
    "In addition, we want to color-label the Booster version on each scatter point so that we may\n",
    "observe mission outcomes with different boosters.\n",
    "\n",
    "Now, let’s add a call function including the following application logic:\n",
    "\n",
    "* Input to be `[Input(component_id='site-dropdown', component_property='value'), Input(component_id=\"payload-slider\", component_property=\"value\")]`\n",
    "Note that we have two input components, one to receive selected launch site and another to receive selected payload range\n",
    "* Output to be `Output(component_id='success-payload-scatter-chart', component_property='figure')`\n",
    "* A `If-Else` statement to check if ALL sites were selected or just a specific launch site was selected\n",
    "    * If ALL sites are selected, render a scatter plot to display all values for variable `Payload Mass (kg)` and variable `class`. In addition, the point color needs to be set to the booster version i.e., `color=\"Booster Version Category\"`\n",
    "    * If a specific launch site is selected, you need to filter the `spacex_df` first, and render a scatter chart to show values `Payload Mass (kg)` and `class` for the selected site, and color-label the point using `Boosster Version Category` likewise."
   ]
  },
  {
   "cell_type": "markdown",
   "metadata": {},
   "source": [
    "## Python Code\n",
    "Consider this skeleton Dash app to be completed in this lab:"
   ]
  },
  {
   "cell_type": "code",
   "execution_count": 2,
   "metadata": {},
   "outputs": [
    {
     "name": "stderr",
     "output_type": "stream",
     "text": [
      "/var/folders/tj/37_nx10d1x522smb0bk9pylh0000gn/T/ipykernel_95180/2280978771.py:4: UserWarning: \n",
      "The dash_html_components package is deprecated. Please replace\n",
      "`import dash_html_components as html` with `from dash import html`\n",
      "  import dash_html_components as html\n",
      "/var/folders/tj/37_nx10d1x522smb0bk9pylh0000gn/T/ipykernel_95180/2280978771.py:5: UserWarning: \n",
      "The dash_core_components package is deprecated. Please replace\n",
      "`import dash_core_components as dcc` with `from dash import dcc`\n",
      "  import dash_core_components as dcc\n"
     ]
    },
    {
     "name": "stdout",
     "output_type": "stream",
     "text": [
      "Dash is running on http://127.0.0.1:8050/\n",
      "\n",
      " * Serving Flask app \"__main__\" (lazy loading)\n",
      " * Environment: production\n",
      "\u001b[31m   WARNING: This is a development server. Do not use it in a production deployment.\u001b[0m\n",
      "\u001b[2m   Use a production WSGI server instead.\u001b[0m\n",
      " * Debug mode: off\n"
     ]
    },
    {
     "name": "stderr",
     "output_type": "stream",
     "text": [
      " * Running on http://127.0.0.1:8050/ (Press CTRL+C to quit)\n"
     ]
    }
   ],
   "source": [
    "# Import required libraries\n",
    "import pandas as pd\n",
    "import dash\n",
    "import dash_html_components as html\n",
    "import dash_core_components as dcc\n",
    "from dash.dependencies import Input, Output\n",
    "import plotly.express as px\n",
    "\n",
    "# Read the airline data into pandas dataframe\n",
    "spacex_df = pd.read_csv(\"spacex_launch_dash.csv\")\n",
    "spacex_df['Launch Outcome'] = ['Success' if c == 1 else 'Failure' for c in spacex_df['class']]\n",
    "max_payload = spacex_df['Payload Mass (kg)'].max()\n",
    "min_payload = spacex_df['Payload Mass (kg)'].min()\n",
    "\n",
    "# Create a dash application\n",
    "app = dash.Dash(__name__)\n",
    "\n",
    "# Create an app layout and CSS style\n",
    "app.layout = html.Div(children = [\n",
    "    html.H1('SpaceX Launch Records Dashboard',\n",
    "            style = {'textAlign': 'center', 'color': '#503D36', 'font-size': 40}),\n",
    "    \n",
    "    # TASK 1: Add a dropdown list to enable Launch Site selection\n",
    "    # The default select value is for ALL sites\n",
    "    dcc.Dropdown(id = 'site-dropdown',\n",
    "                options = [\n",
    "                            {'label': 'All Sites',\n",
    "                                'value': 'ALL'},\n",
    "                            {'label': 'CCAFS LC-40',\n",
    "                                'value': 'CCAFS LC-40'},\n",
    "                            {'label': 'CCAFS SLC-40',\n",
    "                                'value': 'CCAFS SLC-40'},\n",
    "                            {'label': 'KSC LC-39A',\n",
    "                                'value': 'KSC LC-39A'},\n",
    "                            {'label': 'VAFB SLC-4E',\n",
    "                                'value': 'VAFB SLC-4E'}],\n",
    "                value = 'ALL',\n",
    "                placeholder = 'Launch Site:',\n",
    "                searchable = True ),\n",
    "\n",
    "    # TASK 2: Add a pie chart to show the total successful launches count for all sites\n",
    "    # If a specific launch site was selected, show the Success vs. Failed counts for the site\n",
    "    html.Div(dcc.Graph(id = 'success-pie-chart')),\n",
    "    html.Br(),\n",
    "    html.P(\"Payload range (Kg):\"),\n",
    "\n",
    "    # TASK 3: Add a slider to select payload range\n",
    "    # dcc.RangeSlider(id='payload-slider',...)\n",
    "    dcc.RangeSlider(id = 'payload-slider',\n",
    "                    min = 0, max = 10000, step = 1000,\n",
    "                    marks = {0: '0',\n",
    "                            1000: '1000',\n",
    "                            2000: '2000',\n",
    "                            3000: '3000',\n",
    "                            4000: '4000',\n",
    "                            5000: '5000',\n",
    "                            6000: '6000',\n",
    "                            7000: '7000',\n",
    "                            8000: '8000',\n",
    "                            9000: '9000',\n",
    "                            10000: '10000'},\n",
    "                    value = [min_payload, max_payload]),\n",
    "\n",
    "    # TASK 4: Add a scatter chart to show the correlation between payload and launch success\n",
    "    html.Div(\n",
    "        dcc.Graph(id = 'success-payload-scatter-chart')),\n",
    "    ], style = {'height': '100vh'}\n",
    ")\n",
    "\n",
    "# TASK 2:\n",
    "# Add a callback function for `site-dropdown` as input, `success-pie-chart` as output\n",
    "@app.callback(Output(component_id = 'success-pie-chart', component_property = 'figure'),\n",
    "              Input(component_id = 'site-dropdown', component_property = 'value'))\n",
    "def get_pie_chart(entered_site):\n",
    "    filtered_df = spacex_df\n",
    "    if entered_site == 'ALL':\n",
    "        fig = px.pie(filtered_df, values = 'class',\n",
    "                     names = 'Launch Site',\n",
    "                     title = 'SpaceX Launch Site Success Distribution (All Sites)')\n",
    "        return fig\n",
    "    else:\n",
    "        # return the outcomes piechart for a selected site\n",
    "        filtered_df = spacex_df[spacex_df['Launch Site'] == entered_site]\n",
    "        filtered_df = filtered_df.groupby(['Launch Site', 'class']).size().reset_index(name = 'class_count')\n",
    "        fig = px.pie(filtered_df, values = 'class_count', names = filtered_df['class'].map({1: \"Success\", 0: \"Failure\"}),\n",
    "                     title = f\"SpaceX Success Rate of {entered_site} Launch Site\")\n",
    "        fig.update_traces(marker = dict(colors=['red', 'green']))\n",
    "        return fig\n",
    "\n",
    "# TASK 4:\n",
    "# Add a callback function for `site-dropdown` and `payload-slider` as inputs, `success-payload-scatter-chart` as output\n",
    "@app.callback(Output(component_id = 'success-payload-scatter-chart', component_property = 'figure'),\n",
    "              [Input(component_id = 'site-dropdown', component_property = 'value'),\n",
    "               Input(component_id = 'payload-slider', component_property = 'value')])\n",
    "def get_scatter_chart(entered_site, payload):\n",
    "    filtered_df = spacex_df[spacex_df['Payload Mass (kg)'].between(\n",
    "        payload[0], payload[1])]\n",
    "    if entered_site == 'ALL':\n",
    "        fig = px.scatter(filtered_df, x = 'Payload Mass (kg)', y = 'Launch Outcome',\n",
    "                         color = 'Booster Version Category', title = 'Success vs. Failure for Payload Mass and Launch Sites (All Sites)')\n",
    "        return fig\n",
    "    else:\n",
    "        fig = px.scatter(filtered_df[filtered_df['Launch Site'] == entered_site], x = 'Payload Mass (kg)', y = 'Launch Outcome',\n",
    "                         color = 'Booster Version Category', title = f\"Success vs. Failure for Payload Mass and Launch Site {entered_site}\")\n",
    "        return fig\n",
    "\n",
    "\n",
    "# Run the app\n",
    "if __name__ == '__main__':\n",
    "    app.run_server()\n"
   ]
  },
  {
   "cell_type": "markdown",
   "metadata": {},
   "source": [
    "`Note: For opening the Dashboard, run the Python Code above and open the provided link in the browser.`\n",
    "\n",
    "`Interrupt Execution when done using the dashboard.`\n",
    "\n",
    "`Example:` \n",
    "\n",
    "`\"[...]` \n",
    "`Dash is running on http://123.4.5.6:8050/` \n",
    "`[...]\"`"
   ]
  },
  {
   "cell_type": "markdown",
   "metadata": {},
   "source": [
    "## Questions\n",
    "\n",
    "After visual analysis using the dashboard, you should be able to obtain some insights to answer the following five questions:"
   ]
  },
  {
   "cell_type": "markdown",
   "metadata": {},
   "source": [
    "### 1) Which site has the largest successful launches?"
   ]
  },
  {
   "cell_type": "markdown",
   "metadata": {},
   "source": [
    "`The site that has the largest successful launches is the KSC LC-39A, with 41.7% of total successfull launches.`"
   ]
  },
  {
   "cell_type": "markdown",
   "metadata": {},
   "source": [
    "### 2) Which site has the highest launch success rate?"
   ]
  },
  {
   "cell_type": "markdown",
   "metadata": {},
   "source": [
    "`The site that has the highest launch success rate is also the KSC LC-39A, with 76.9% of success rate.`"
   ]
  },
  {
   "cell_type": "markdown",
   "metadata": {},
   "source": [
    "### 3) Which payload range(s) has the highest launch success rate?"
   ]
  },
  {
   "cell_type": "markdown",
   "metadata": {},
   "source": [
    "`The highest launch success rate has a payload between 3,000 Kg and 4,000 Kg.`"
   ]
  },
  {
   "cell_type": "markdown",
   "metadata": {},
   "source": [
    "### 4) Which payload range(s) has the lowest launch success rate?"
   ]
  },
  {
   "cell_type": "markdown",
   "metadata": {},
   "source": [
    "`The lowest launch success rate has a payload between 6,000 Kg and 8,000 Kg.`"
   ]
  },
  {
   "cell_type": "markdown",
   "metadata": {},
   "source": [
    "### 5) Which F9 Booster version (v1.0, v1.1, FT, B4, B5, etc.) has the highest launch success rate?"
   ]
  },
  {
   "cell_type": "markdown",
   "metadata": {},
   "source": [
    "`The FT Booster version appears to have the highest launch success rate.`"
   ]
  }
 ],
 "metadata": {
  "kernelspec": {
   "display_name": "Python 3.9.7 ('base')",
   "language": "python",
   "name": "python3"
  },
  "language_info": {
   "codemirror_mode": {
    "name": "ipython",
    "version": 3
   },
   "file_extension": ".py",
   "mimetype": "text/x-python",
   "name": "python",
   "nbconvert_exporter": "python",
   "pygments_lexer": "ipython3",
   "version": "3.9.7"
  },
  "orig_nbformat": 4,
  "vscode": {
   "interpreter": {
    "hash": "86a6376cf25521c81cac63b8753fe0e08409716c922ff069f72737bffc038656"
   }
  }
 },
 "nbformat": 4,
 "nbformat_minor": 2
}
